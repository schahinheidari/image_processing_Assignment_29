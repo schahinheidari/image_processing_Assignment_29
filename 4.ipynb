{
 "cells": [
  {
   "cell_type": "code",
   "execution_count": 1,
   "metadata": {},
   "outputs": [],
   "source": [
    "import numpy as np\n",
    "import cv2 as cv"
   ]
  },
  {
   "cell_type": "code",
   "execution_count": 2,
   "metadata": {},
   "outputs": [
    {
     "name": "stderr",
     "output_type": "stream",
     "text": [
      "[ WARN:0] global /tmp/pip-req-build-99ib2vsi/opencv/modules/videoio/src/cap_v4l.cpp (893) open VIDEOIO(V4L2:/dev/video0): can't open camera by index\n"
     ]
    }
   ],
   "source": [
    "cap = cv.VideoCapture(-1)\n",
    "font = cv.FONT_ITALIC\n",
    "fontSize = 1\n",
    "textColor = (0, 0, 0)\n",
    "thickness = 1"
   ]
  },
  {
   "cell_type": "code",
   "execution_count": 3,
   "metadata": {},
   "outputs": [
    {
     "ename": "error",
     "evalue": "OpenCV(4.4.0) /tmp/pip-req-build-99ib2vsi/opencv/modules/imgproc/src/resize.cpp:3929: error: (-215:Assertion failed) !ssize.empty() in function 'resize'\n",
     "output_type": "error",
     "traceback": [
      "\u001b[0;31m---------------------------------------------------------------------------\u001b[0m",
      "\u001b[0;31merror\u001b[0m                                     Traceback (most recent call last)",
      "\u001b[1;32m/home/shahin/Desktop/M1/Sajjad project/Assignment-29/image_processing_Assignment_29/4.ipynb Cell 3\u001b[0m in \u001b[0;36m<cell line: 3>\u001b[0;34m()\u001b[0m\n\u001b[1;32m      <a href='vscode-notebook-cell:/home/shahin/Desktop/M1/Sajjad%20project/Assignment-29/image_processing_Assignment_29/4.ipynb#W2sZmlsZQ%3D%3D?line=0'>1</a>\u001b[0m \u001b[39mwhile\u001b[39;00m \u001b[39mTrue\u001b[39;00m:\n\u001b[1;32m      <a href='vscode-notebook-cell:/home/shahin/Desktop/M1/Sajjad%20project/Assignment-29/image_processing_Assignment_29/4.ipynb#W2sZmlsZQ%3D%3D?line=2'>3</a>\u001b[0m     ret, frame \u001b[39m=\u001b[39m cap\u001b[39m.\u001b[39mread()\n\u001b[0;32m----> <a href='vscode-notebook-cell:/home/shahin/Desktop/M1/Sajjad%20project/Assignment-29/image_processing_Assignment_29/4.ipynb#W2sZmlsZQ%3D%3D?line=3'>4</a>\u001b[0m     frame \u001b[39m=\u001b[39m cv\u001b[39m.\u001b[39;49mresize(frame,(\u001b[39m500\u001b[39;49m,\u001b[39m500\u001b[39;49m), fx \u001b[39m=\u001b[39;49m \u001b[39m0\u001b[39;49m, fy \u001b[39m=\u001b[39;49m \u001b[39m0\u001b[39;49m, interpolation\u001b[39m=\u001b[39;49mcv\u001b[39m.\u001b[39;49mINTER_CUBIC)\n\u001b[1;32m      <a href='vscode-notebook-cell:/home/shahin/Desktop/M1/Sajjad%20project/Assignment-29/image_processing_Assignment_29/4.ipynb#W2sZmlsZQ%3D%3D?line=4'>5</a>\u001b[0m     \u001b[39mfilter\u001b[39m \u001b[39m=\u001b[39m np\u001b[39m.\u001b[39mones((\u001b[39m50\u001b[39m,\u001b[39m50\u001b[39m))\u001b[39m/\u001b[39m \u001b[39m2500\u001b[39m\n\u001b[1;32m      <a href='vscode-notebook-cell:/home/shahin/Desktop/M1/Sajjad%20project/Assignment-29/image_processing_Assignment_29/4.ipynb#W2sZmlsZQ%3D%3D?line=5'>6</a>\u001b[0m     cv\u001b[39m.\u001b[39mrectangle(frame, (\u001b[39m150\u001b[39m,\u001b[39m150\u001b[39m), (\u001b[39m300\u001b[39m,\u001b[39m300\u001b[39m), (\u001b[39m0\u001b[39m,\u001b[39m0\u001b[39m,\u001b[39m0\u001b[39m), \u001b[39m4\u001b[39m)\n",
      "\u001b[0;31merror\u001b[0m: OpenCV(4.4.0) /tmp/pip-req-build-99ib2vsi/opencv/modules/imgproc/src/resize.cpp:3929: error: (-215:Assertion failed) !ssize.empty() in function 'resize'\n"
     ]
    }
   ],
   "source": [
    "while True:\n",
    "\n",
    "    ret, frame = cap.read()\n",
    "    frame = cv.resize(frame,(500,500), fx = 0, fy = 0, interpolation=cv.INTER_CUBIC)\n",
    "    filter = np.ones((50,50))/ 2500\n",
    "    cv.rectangle(frame, (150,150), (300,300), (0,0,0), 4)\n",
    "    point = frame[150:300, 150:300]\n",
    "    \n",
    "    res = cv.filter2D(frame, -1, filter)\n",
    "    res[200:300, 200:300] = point\n",
    "    detect = res[200:300, 200:300]\n",
    "\n",
    "    if  0 < np.average(detect) <= 85:\n",
    "        cv.putText(res, \"BLACK\", (25, 50), font, fontSize, textColor, thickness)\n",
    "    elif 85 < np.average(detect) <= 125:\n",
    "        cv.putText(res, \"GRAY\", (25, 50), font, fontSize, textColor, thickness)\n",
    "    else:\n",
    "        cv.putText(res, \"WHITE\", (25, 50), font, fontSize, textColor, thickness) \n",
    "\n",
    "\n",
    "    cv.imshow(\"frame\", res)\n",
    "    if cv.waitKey(25) & 0xFF == ord(\"q\"):\n",
    "        break\n",
    "\n",
    "cap.release()\n",
    "cv.destroyAllWindows()"
   ]
  }
 ],
 "metadata": {
  "kernelspec": {
   "display_name": "Python 3",
   "language": "python",
   "name": "python3"
  },
  "language_info": {
   "codemirror_mode": {
    "name": "ipython",
    "version": 3
   },
   "file_extension": ".py",
   "mimetype": "text/x-python",
   "name": "python",
   "nbconvert_exporter": "python",
   "pygments_lexer": "ipython3",
   "version": "3.8.10 (default, Nov 14 2022, 12:59:47) \n[GCC 9.4.0]"
  },
  "orig_nbformat": 4,
  "vscode": {
   "interpreter": {
    "hash": "916dbcbb3f70747c44a77c7bcd40155683ae19c65e1c03b4aa3499c5328201f1"
   }
  }
 },
 "nbformat": 4,
 "nbformat_minor": 2
}
